{
 "cells": [
  {
   "cell_type": "code",
   "execution_count": 35,
   "id": "45c774ea",
   "metadata": {},
   "outputs": [],
   "source": [
    "#first let's just import the tokenizer and import the model\n",
    "from transformers import GPT2Tokenizer,GPT2LMHeadModel\n",
    "tokenizer=GPT2Tokenizer.from_pretrained('gpt2')\n",
    "tokenizer.add_special_tokens({'pad_token': '<|pad|>'})\n",
    "model=GPT2LMHeadModel.from_pretrained('gpt2')\n",
    "model.resize_token_embeddings(len(tokenizer))\n",
    "\n",
    "for name, param in model.named_parameters():\n",
    "    if 'transformer.h.11' not in name and 'lm_head' not in name:\n",
    "        param.requires_grad = False"
   ]
  },
  {
   "cell_type": "code",
   "execution_count": 36,
   "id": "f85376de",
   "metadata": {},
   "outputs": [
    {
     "name": "stderr",
     "output_type": "stream",
     "text": [
      "Map: 100%|██████████| 9/9 [00:00<00:00, 128.59 examples/s]\n",
      "Map: 100%|██████████| 1/1 [00:00<00:00, 44.69 examples/s]\n"
     ]
    }
   ],
   "source": [
    "#let's load the dataset and do preprocessing('|startoftext|' and '|endoftext|') and tokenizing after that.\n",
    "from datasets import load_dataset\n",
    "\n",
    "dataset=load_dataset(\"json\",data_files=\"E:/Mohit AI projects/Axolotron AI Bot/Dataset.json\")\n",
    "dataset = dataset[\"train\"].train_test_split(test_size=0.1)\n",
    "train_dataset = dataset[\"train\"]\n",
    "val_dataset = dataset[\"test\"]\n",
    "\n",
    "def text_format(example):\n",
    "    return f\"<|startoftext|>Prompt:{example['prompt']}\\nResponse:{example['response']}<|endoftext|>\"\n",
    "\n",
    "def tokenize(example):\n",
    "    tokenized = tokenizer(\n",
    "        text_format(example),\n",
    "        truncation=True,\n",
    "        padding=\"max_length\",\n",
    "        max_length=512\n",
    "    )\n",
    "    return {\n",
    "        \"input_ids\": tokenized[\"input_ids\"],\n",
    "        \"attention_mask\": tokenized[\"attention_mask\"],\n",
    "        \"labels\": tokenized[\"input_ids\"]  # Labels are the same as input_ids for causal LM\n",
    "    }\n",
    "\n",
    "tokenized_dataset=dataset.map(tokenize, batched=False)"
   ]
  },
  {
   "cell_type": "code",
   "execution_count": 38,
   "id": "c09403fb",
   "metadata": {},
   "outputs": [
    {
     "name": "stderr",
     "output_type": "stream",
     "text": [
      "C:\\Users\\mohit\\AppData\\Local\\Temp\\ipykernel_20424\\1497223028.py:12: FutureWarning: `tokenizer` is deprecated and will be removed in version 5.0.0 for `Trainer.__init__`. Use `processing_class` instead.\n",
      "  trainer=Trainer(\n",
      "e:\\Mohit AI projects\\Axolotron AI Bot\\venv_b\\Lib\\site-packages\\torch\\utils\\data\\dataloader.py:665: UserWarning: 'pin_memory' argument is set as true but no accelerator is found, then device pinned memory won't be used.\n",
      "  warnings.warn(warn_msg)\n"
     ]
    },
    {
     "data": {
      "text/html": [
       "\n",
       "    <div>\n",
       "      \n",
       "      <progress value='10' max='10' style='width:300px; height:20px; vertical-align: middle;'></progress>\n",
       "      [10/10 02:16, Epoch 10/10]\n",
       "    </div>\n",
       "    <table border=\"1\" class=\"dataframe\">\n",
       "  <thead>\n",
       " <tr style=\"text-align: left;\">\n",
       "      <th>Step</th>\n",
       "      <th>Training Loss</th>\n",
       "    </tr>\n",
       "  </thead>\n",
       "  <tbody>\n",
       "    <tr>\n",
       "      <td>10</td>\n",
       "      <td>11.792800</td>\n",
       "    </tr>\n",
       "  </tbody>\n",
       "</table><p>"
      ],
      "text/plain": [
       "<IPython.core.display.HTML object>"
      ]
     },
     "metadata": {},
     "output_type": "display_data"
    },
    {
     "data": {
      "text/plain": [
       "TrainOutput(global_step=10, training_loss=11.792774963378907, metrics={'train_runtime': 154.0748, 'train_samples_per_second': 0.584, 'train_steps_per_second': 0.065, 'total_flos': 23516282880000.0, 'train_loss': 11.792774963378907, 'epoch': 10.0})"
      ]
     },
     "execution_count": 38,
     "metadata": {},
     "output_type": "execute_result"
    }
   ],
   "source": [
    "#and let's train\n",
    "from transformers import TrainingArguments, Trainer\n",
    "\n",
    "training_arguments=TrainingArguments(\n",
    "    output_dir=\"./gpt2-chatbot\",\n",
    "    per_device_train_batch_size=10,\n",
    "    num_train_epochs=10,\n",
    "    logging_steps=10,\n",
    "    save_steps=100\n",
    ")\n",
    "\n",
    "trainer=Trainer(\n",
    "    model=model,\n",
    "    args=training_arguments,\n",
    "    train_dataset=tokenized_dataset[\"train\"],\n",
    "    eval_dataset=tokenized_dataset[\"test\"],\n",
    "    tokenizer=tokenizer\n",
    ")\n",
    "\n",
    "trainer.train()"
   ]
  },
  {
   "cell_type": "code",
   "execution_count": 39,
   "id": "5cdea7e4",
   "metadata": {},
   "outputs": [
    {
     "data": {
      "text/plain": [
       "('E:/Mohit AI projects/Axolotron AI Bot/The Bot2\\\\tokenizer_config.json',\n",
       " 'E:/Mohit AI projects/Axolotron AI Bot/The Bot2\\\\special_tokens_map.json',\n",
       " 'E:/Mohit AI projects/Axolotron AI Bot/The Bot2\\\\vocab.json',\n",
       " 'E:/Mohit AI projects/Axolotron AI Bot/The Bot2\\\\merges.txt',\n",
       " 'E:/Mohit AI projects/Axolotron AI Bot/The Bot2\\\\added_tokens.json')"
      ]
     },
     "execution_count": 39,
     "metadata": {},
     "output_type": "execute_result"
    }
   ],
   "source": [
    "#add let's save them\n",
    "save_path = \"E:/Mohit AI projects/Axolotron AI Bot/The Bot2\"\n",
    "model.save_pretrained(save_path)\n",
    "tokenizer.save_pretrained(save_path)"
   ]
  },
  {
   "cell_type": "code",
   "execution_count": 40,
   "id": "1e376d04",
   "metadata": {},
   "outputs": [],
   "source": [
    "from transformers import GPT2LMHeadModel, GPT2Tokenizer\n",
    "\n",
    "model = GPT2LMHeadModel.from_pretrained(save_path)\n",
    "tokenizer = GPT2Tokenizer.from_pretrained(save_path)"
   ]
  },
  {
   "cell_type": "code",
   "execution_count": 41,
   "id": "dda9c043",
   "metadata": {},
   "outputs": [
    {
     "data": {
      "text/plain": [
       "'<|startoftext|>Prompt: how can i contact you?\\nResponse: no information has been posted. [link]\\n1:54:22 PM\\nMessage in [main:main] (click to show/hide dialog'"
      ]
     },
     "execution_count": 41,
     "metadata": {},
     "output_type": "execute_result"
    }
   ],
   "source": [
    "def generate_response(prompt):\n",
    "    input_text=f\"<|startoftext|>Prompt: {prompt}\\nResponse:\"\n",
    "    inputs=tokenizer(input_text,return_tensors='pt')\n",
    "    outputs=model.generate(\n",
    "    inputs['input_ids'], \n",
    "    attention_mask=inputs.attention_mask, \n",
    "    max_length=50,          # increase max tokens to generate\n",
    "    pad_token_id=tokenizer.eos_token_id,  # avoid warnings\n",
    "    do_sample=True,        # to add randomness, otherwise greedy decoding might generate empty\n",
    "    top_k=50,\n",
    "    top_p=0.95,\n",
    "    num_return_sequences=1\n",
    ")\n",
    "    decoded=tokenizer.decode(outputs[0])\n",
    "    return decoded.strip()\n",
    "\n",
    "generate_response(\"how can i contact you?\")"
   ]
  },
  {
   "cell_type": "code",
   "execution_count": 42,
   "id": "9b5ed56b",
   "metadata": {},
   "outputs": [
    {
     "name": "stderr",
     "output_type": "stream",
     "text": [
      "The following generation flags are not valid and may be ignored: ['early_stopping']. Set `TRANSFORMERS_VERBOSITY=info` for more details.\n"
     ]
    },
    {
     "data": {
      "text/plain": [
       "'<input type=\"text\" name=\"Address\" value=\"<|>The email address for your'"
      ]
     },
     "execution_count": 42,
     "metadata": {},
     "output_type": "execute_result"
    }
   ],
   "source": [
    "def generate_response(prompt):\n",
    "    input_text = f\"<|startoftext|>Prompt: {prompt}\\nResponse:\"  # note colon after Response\n",
    "    inputs = tokenizer(input_text, return_tensors='pt')\n",
    "    outputs = model.generate(\n",
    "        inputs['input_ids'],\n",
    "        attention_mask=inputs['attention_mask'],\n",
    "        max_length=150,  # increased max length\n",
    "        pad_token_id=tokenizer.eos_token_id,\n",
    "        do_sample=True,\n",
    "        top_k=50,\n",
    "        top_p=0.95,\n",
    "        num_return_sequences=1,\n",
    "        early_stopping=True\n",
    "    )\n",
    "    decoded = tokenizer.decode(outputs[0], skip_special_tokens=True)\n",
    "    # Extract the answer part after \"Response:\"\n",
    "    if \"Response:\" in decoded:\n",
    "        return decoded.split(\"Response:\")[-1].strip()\n",
    "    else:\n",
    "        return decoded.strip()\n",
    "\n",
    "generate_response(\"how can i contact you?\")"
   ]
  }
 ],
 "metadata": {
  "kernelspec": {
   "display_name": "venv_b",
   "language": "python",
   "name": "python3"
  },
  "language_info": {
   "codemirror_mode": {
    "name": "ipython",
    "version": 3
   },
   "file_extension": ".py",
   "mimetype": "text/x-python",
   "name": "python",
   "nbconvert_exporter": "python",
   "pygments_lexer": "ipython3",
   "version": "3.11.4"
  }
 },
 "nbformat": 4,
 "nbformat_minor": 5
}
